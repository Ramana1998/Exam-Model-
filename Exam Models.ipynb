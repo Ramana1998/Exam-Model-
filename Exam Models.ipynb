{
 "cells": [
  {
   "cell_type": "markdown",
   "id": "6edbe312",
   "metadata": {},
   "source": [
    "# Exam Model "
   ]
  },
  {
   "cell_type": "markdown",
   "id": "9672cd5c",
   "metadata": {},
   "source": [
    "by"
   ]
  },
  {
   "cell_type": "markdown",
   "id": "2ce1b12e",
   "metadata": {},
   "source": [
    "**Remella Satya Ramana Kumar**"
   ]
  },
  {
   "cell_type": "code",
   "execution_count": 220,
   "id": "a9663c34",
   "metadata": {},
   "outputs": [],
   "source": [
    "import warnings\n",
    "warnings.filterwarnings('ignore')"
   ]
  },
  {
   "cell_type": "code",
   "execution_count": 221,
   "id": "6ffc7495",
   "metadata": {},
   "outputs": [],
   "source": [
    "import numpy as np\n",
    "import pandas as pd\n",
    "import matplotlib.pyplot as plt\n",
    "import seaborn as sns\n",
    "\n",
    "from sklearn.model_selection import train_test_split\n",
    "from sklearn.preprocessing import MinMaxScaler\n",
    "from sklearn.feature_selection import RFE\n",
    "from sklearn.linear_model import LinearRegression\n",
    "from statsmodels.stats.outliers_influence import variance_inflation_factor\n",
    "import statsmodels.api as sm\n",
    "from sklearn.metrics import r2_score"
   ]
  },
  {
   "cell_type": "code",
   "execution_count": 222,
   "id": "b7a7f2ec",
   "metadata": {},
   "outputs": [],
   "source": [
    "data = pd.read_csv(\"S:\\exam.csv\",low_memory = False)"
   ]
  },
  {
   "cell_type": "markdown",
   "id": "303d249d",
   "metadata": {},
   "source": [
    "# EDA"
   ]
  },
  {
   "cell_type": "code",
   "execution_count": 223,
   "id": "08111c3e",
   "metadata": {},
   "outputs": [
    {
     "data": {
      "text/html": [
       "<div>\n",
       "<style scoped>\n",
       "    .dataframe tbody tr th:only-of-type {\n",
       "        vertical-align: middle;\n",
       "    }\n",
       "\n",
       "    .dataframe tbody tr th {\n",
       "        vertical-align: top;\n",
       "    }\n",
       "\n",
       "    .dataframe thead th {\n",
       "        text-align: right;\n",
       "    }\n",
       "</style>\n",
       "<table border=\"1\" class=\"dataframe\">\n",
       "  <thead>\n",
       "    <tr style=\"text-align: right;\">\n",
       "      <th></th>\n",
       "      <th>id</th>\n",
       "      <th>group</th>\n",
       "      <th>sex</th>\n",
       "      <th>quanti</th>\n",
       "      <th>points</th>\n",
       "      <th>exam</th>\n",
       "      <th>passed</th>\n",
       "    </tr>\n",
       "  </thead>\n",
       "  <tbody>\n",
       "    <tr>\n",
       "      <th>0</th>\n",
       "      <td>0</td>\n",
       "      <td>A</td>\n",
       "      <td>m</td>\n",
       "      <td>9</td>\n",
       "      <td>65.0</td>\n",
       "      <td>60.5</td>\n",
       "      <td>yes</td>\n",
       "    </tr>\n",
       "    <tr>\n",
       "      <th>1</th>\n",
       "      <td>0</td>\n",
       "      <td>A</td>\n",
       "      <td>m</td>\n",
       "      <td>9</td>\n",
       "      <td>73.5</td>\n",
       "      <td>50</td>\n",
       "      <td>yes</td>\n",
       "    </tr>\n",
       "    <tr>\n",
       "      <th>2</th>\n",
       "      <td>0</td>\n",
       "      <td>A</td>\n",
       "      <td>m</td>\n",
       "      <td>9</td>\n",
       "      <td>77.0</td>\n",
       "      <td>37</td>\n",
       "      <td>yes</td>\n",
       "    </tr>\n",
       "    <tr>\n",
       "      <th>3</th>\n",
       "      <td>0</td>\n",
       "      <td>B</td>\n",
       "      <td>m</td>\n",
       "      <td>9</td>\n",
       "      <td>80.0</td>\n",
       "      <td>41</td>\n",
       "      <td>yes</td>\n",
       "    </tr>\n",
       "    <tr>\n",
       "      <th>4</th>\n",
       "      <td>0</td>\n",
       "      <td>B</td>\n",
       "      <td>m</td>\n",
       "      <td>9</td>\n",
       "      <td>80.0</td>\n",
       "      <td>68</td>\n",
       "      <td>yes</td>\n",
       "    </tr>\n",
       "  </tbody>\n",
       "</table>\n",
       "</div>"
      ],
      "text/plain": [
       "   id group sex  quanti  points  exam passed\n",
       "0   0     A   m       9    65.0  60.5    yes\n",
       "1   0     A   m       9    73.5    50    yes\n",
       "2   0     A   m       9    77.0    37    yes\n",
       "3   0     B   m       9    80.0    41    yes\n",
       "4   0     B   m       9    80.0    68    yes"
      ]
     },
     "execution_count": 223,
     "metadata": {},
     "output_type": "execute_result"
    }
   ],
   "source": [
    "data.head()"
   ]
  },
  {
   "cell_type": "code",
   "execution_count": 224,
   "id": "537b478a",
   "metadata": {},
   "outputs": [
    {
     "data": {
      "text/plain": [
       "(113, 7)"
      ]
     },
     "execution_count": 224,
     "metadata": {},
     "output_type": "execute_result"
    }
   ],
   "source": [
    "data.shape"
   ]
  },
  {
   "cell_type": "code",
   "execution_count": 225,
   "id": "bf9f72ea",
   "metadata": {},
   "outputs": [
    {
     "name": "stdout",
     "output_type": "stream",
     "text": [
      "<class 'pandas.core.frame.DataFrame'>\n",
      "RangeIndex: 113 entries, 0 to 112\n",
      "Data columns (total 7 columns):\n",
      " #   Column  Non-Null Count  Dtype  \n",
      "---  ------  --------------  -----  \n",
      " 0   id      113 non-null    int64  \n",
      " 1   group   113 non-null    object \n",
      " 2   sex     113 non-null    object \n",
      " 3   quanti  113 non-null    int64  \n",
      " 4   points  113 non-null    float64\n",
      " 5   exam    113 non-null    object \n",
      " 6   passed  113 non-null    object \n",
      "dtypes: float64(1), int64(2), object(4)\n",
      "memory usage: 6.3+ KB\n"
     ]
    }
   ],
   "source": [
    "data.info()"
   ]
  },
  {
   "cell_type": "code",
   "execution_count": 226,
   "id": "6f60d2a9",
   "metadata": {},
   "outputs": [
    {
     "data": {
      "text/plain": [
       "Series([], dtype: float64)"
      ]
     },
     "execution_count": 226,
     "metadata": {},
     "output_type": "execute_result"
    }
   ],
   "source": [
    "c = data.isnull().sum()\n",
    "i = len(data.index)\n",
    "null_data = round(100*(c/i),2)\n",
    "null_data[null_data>0]"
   ]
  },
  {
   "cell_type": "code",
   "execution_count": 227,
   "id": "145ff7b6",
   "metadata": {},
   "outputs": [
    {
     "data": {
      "text/plain": [
       "id        0\n",
       "group     0\n",
       "sex       0\n",
       "quanti    0\n",
       "points    0\n",
       "exam      0\n",
       "passed    0\n",
       "dtype: int64"
      ]
     },
     "execution_count": 227,
     "metadata": {},
     "output_type": "execute_result"
    }
   ],
   "source": [
    "data.isnull().sum()"
   ]
  },
  {
   "cell_type": "code",
   "execution_count": 228,
   "id": "80a32b0a",
   "metadata": {},
   "outputs": [],
   "source": [
    "data = data.drop(['id'],axis=1)"
   ]
  },
  {
   "cell_type": "code",
   "execution_count": 229,
   "id": "d9584f88",
   "metadata": {},
   "outputs": [
    {
     "name": "stdout",
     "output_type": "stream",
     "text": [
      "<class 'pandas.core.frame.DataFrame'>\n",
      "RangeIndex: 113 entries, 0 to 112\n",
      "Data columns (total 6 columns):\n",
      " #   Column  Non-Null Count  Dtype  \n",
      "---  ------  --------------  -----  \n",
      " 0   group   113 non-null    object \n",
      " 1   sex     113 non-null    object \n",
      " 2   quanti  113 non-null    int64  \n",
      " 3   points  113 non-null    float64\n",
      " 4   exam    113 non-null    object \n",
      " 5   passed  113 non-null    object \n",
      "dtypes: float64(1), int64(1), object(4)\n",
      "memory usage: 5.4+ KB\n"
     ]
    }
   ],
   "source": [
    "data.info()"
   ]
  },
  {
   "cell_type": "code",
   "execution_count": 230,
   "id": "71df9641",
   "metadata": {},
   "outputs": [
    {
     "name": "stdout",
     "output_type": "stream",
     "text": [
      "0      A\n",
      "1      A\n",
      "2      A\n",
      "3      B\n",
      "4      B\n",
      "      ..\n",
      "108    B\n",
      "109    B\n",
      "110    B\n",
      "111    C\n",
      "112    C\n",
      "Name: group, Length: 113, dtype: object\n"
     ]
    }
   ],
   "source": [
    "print(data['group'])"
   ]
  },
  {
   "cell_type": "code",
   "execution_count": 231,
   "id": "f12d35a1",
   "metadata": {},
   "outputs": [],
   "source": [
    "data = pd.get_dummies(data = data,columns = ['group' , 'sex'])"
   ]
  },
  {
   "cell_type": "code",
   "execution_count": 232,
   "id": "28160015",
   "metadata": {},
   "outputs": [
    {
     "data": {
      "text/plain": [
       "Index(['quanti', 'points', 'exam', 'passed', 'group_A', 'group_B', 'group_C',\n",
       "       'sex_f', 'sex_m'],\n",
       "      dtype='object')"
      ]
     },
     "execution_count": 232,
     "metadata": {},
     "output_type": "execute_result"
    }
   ],
   "source": [
    "data.columns"
   ]
  },
  {
   "cell_type": "code",
   "execution_count": 233,
   "id": "a36124ea",
   "metadata": {},
   "outputs": [],
   "source": [
    "data= data.drop(['exam'],axis=1)"
   ]
  },
  {
   "cell_type": "code",
   "execution_count": 234,
   "id": "cfce1b03",
   "metadata": {},
   "outputs": [
    {
     "data": {
      "text/plain": [
       "Index(['quanti', 'points', 'passed', 'group_A', 'group_B', 'group_C', 'sex_f',\n",
       "       'sex_m'],\n",
       "      dtype='object')"
      ]
     },
     "execution_count": 234,
     "metadata": {},
     "output_type": "execute_result"
    }
   ],
   "source": [
    "data.columns"
   ]
  },
  {
   "cell_type": "markdown",
   "id": "fe400341",
   "metadata": {},
   "source": [
    "# Regresssion "
   ]
  },
  {
   "cell_type": "code",
   "execution_count": 235,
   "id": "34cb0728",
   "metadata": {},
   "outputs": [],
   "source": [
    "data.passed = data.passed.map({'yes':1,'no':0})"
   ]
  },
  {
   "cell_type": "code",
   "execution_count": 236,
   "id": "9946ed8d",
   "metadata": {},
   "outputs": [],
   "source": [
    "y = data.pop('passed')"
   ]
  },
  {
   "cell_type": "code",
   "execution_count": 237,
   "id": "e17ed41c",
   "metadata": {},
   "outputs": [],
   "source": [
    "X = data"
   ]
  },
  {
   "cell_type": "markdown",
   "id": "0c2e0af1",
   "metadata": {},
   "source": [
    "### Test train split \n",
    "\n",
    "- A train test split is when you split your data into a training set and a testing set. The training set is used for training the model, and the testing set is used to test your model. This allows you to train your models on the training set, and then test their accuracy on the unseen testing set."
   ]
  },
  {
   "cell_type": "code",
   "execution_count": 238,
   "id": "82511cbf",
   "metadata": {},
   "outputs": [],
   "source": [
    "X_train,X_test,y_train,y_test = train_test_split(X,y,train_size=0.7,test_size=0.3, random_state=100)"
   ]
  },
  {
   "cell_type": "code",
   "execution_count": 239,
   "id": "7bafbb38",
   "metadata": {},
   "outputs": [
    {
     "data": {
      "text/plain": [
       "(79, 7)"
      ]
     },
     "execution_count": 239,
     "metadata": {},
     "output_type": "execute_result"
    }
   ],
   "source": [
    "X_train.shape"
   ]
  },
  {
   "cell_type": "code",
   "execution_count": 240,
   "id": "951c6520",
   "metadata": {},
   "outputs": [
    {
     "data": {
      "text/plain": [
       "(34, 7)"
      ]
     },
     "execution_count": 240,
     "metadata": {},
     "output_type": "execute_result"
    }
   ],
   "source": [
    "X_test.shape"
   ]
  },
  {
   "cell_type": "markdown",
   "id": "76be52d5",
   "metadata": {},
   "source": [
    "# Scaling"
   ]
  },
  {
   "cell_type": "code",
   "execution_count": 241,
   "id": "a0e06b8e",
   "metadata": {},
   "outputs": [],
   "source": [
    "var = ['points','quanti']\n",
    "scaler = MinMaxScaler()\n",
    "\n",
    "# Scaler transform\n",
    "X_train[var] = scaler.fit_transform(X_train[var])\n",
    "\n",
    "#X_train[var] = scaler.fit_transform(X_train[var])"
   ]
  },
  {
   "cell_type": "code",
   "execution_count": 242,
   "id": "06fb0645",
   "metadata": {},
   "outputs": [
    {
     "data": {
      "text/html": [
       "<div>\n",
       "<style scoped>\n",
       "    .dataframe tbody tr th:only-of-type {\n",
       "        vertical-align: middle;\n",
       "    }\n",
       "\n",
       "    .dataframe tbody tr th {\n",
       "        vertical-align: top;\n",
       "    }\n",
       "\n",
       "    .dataframe thead th {\n",
       "        text-align: right;\n",
       "    }\n",
       "</style>\n",
       "<table border=\"1\" class=\"dataframe\">\n",
       "  <thead>\n",
       "    <tr style=\"text-align: right;\">\n",
       "      <th></th>\n",
       "      <th>quanti</th>\n",
       "      <th>points</th>\n",
       "      <th>group_A</th>\n",
       "      <th>group_B</th>\n",
       "      <th>group_C</th>\n",
       "      <th>sex_f</th>\n",
       "      <th>sex_m</th>\n",
       "    </tr>\n",
       "  </thead>\n",
       "  <tbody>\n",
       "    <tr>\n",
       "      <th>20</th>\n",
       "      <td>0.555556</td>\n",
       "      <td>0.412088</td>\n",
       "      <td>0</td>\n",
       "      <td>0</td>\n",
       "      <td>1</td>\n",
       "      <td>0</td>\n",
       "      <td>1</td>\n",
       "    </tr>\n",
       "    <tr>\n",
       "      <th>37</th>\n",
       "      <td>0.666667</td>\n",
       "      <td>0.428571</td>\n",
       "      <td>1</td>\n",
       "      <td>0</td>\n",
       "      <td>0</td>\n",
       "      <td>0</td>\n",
       "      <td>1</td>\n",
       "    </tr>\n",
       "    <tr>\n",
       "      <th>6</th>\n",
       "      <td>1.000000</td>\n",
       "      <td>0.736264</td>\n",
       "      <td>0</td>\n",
       "      <td>1</td>\n",
       "      <td>0</td>\n",
       "      <td>0</td>\n",
       "      <td>1</td>\n",
       "    </tr>\n",
       "    <tr>\n",
       "      <th>3</th>\n",
       "      <td>0.888889</td>\n",
       "      <td>0.846154</td>\n",
       "      <td>0</td>\n",
       "      <td>1</td>\n",
       "      <td>0</td>\n",
       "      <td>0</td>\n",
       "      <td>1</td>\n",
       "    </tr>\n",
       "    <tr>\n",
       "      <th>12</th>\n",
       "      <td>1.000000</td>\n",
       "      <td>0.928571</td>\n",
       "      <td>1</td>\n",
       "      <td>0</td>\n",
       "      <td>0</td>\n",
       "      <td>0</td>\n",
       "      <td>1</td>\n",
       "    </tr>\n",
       "  </tbody>\n",
       "</table>\n",
       "</div>"
      ],
      "text/plain": [
       "      quanti    points  group_A  group_B  group_C  sex_f  sex_m\n",
       "20  0.555556  0.412088        0        0        1      0      1\n",
       "37  0.666667  0.428571        1        0        0      0      1\n",
       "6   1.000000  0.736264        0        1        0      0      1\n",
       "3   0.888889  0.846154        0        1        0      0      1\n",
       "12  1.000000  0.928571        1        0        0      0      1"
      ]
     },
     "execution_count": 242,
     "metadata": {},
     "output_type": "execute_result"
    }
   ],
   "source": [
    "X_train.head()"
   ]
  },
  {
   "cell_type": "markdown",
   "id": "1f673c18",
   "metadata": {},
   "source": [
    "### RFE"
   ]
  },
  {
   "cell_type": "code",
   "execution_count": 243,
   "id": "738fc073",
   "metadata": {},
   "outputs": [],
   "source": [
    "lr = LinearRegression()\n",
    "lr.fit(X_train,y_train)\n",
    "rfe = RFE(lr,n_features_to_select = 5)\n",
    "rfe = rfe.fit(X_train,y_train)"
   ]
  },
  {
   "cell_type": "code",
   "execution_count": 244,
   "id": "a35c7061",
   "metadata": {},
   "outputs": [
    {
     "data": {
      "text/plain": [
       "[('quanti', False, 3),\n",
       " ('points', True, 1),\n",
       " ('group_A', True, 1),\n",
       " ('group_B', True, 1),\n",
       " ('group_C', True, 1),\n",
       " ('sex_f', True, 1),\n",
       " ('sex_m', False, 2)]"
      ]
     },
     "execution_count": 244,
     "metadata": {},
     "output_type": "execute_result"
    }
   ],
   "source": [
    "list(zip(X_train.columns,rfe.support_,rfe.ranking_))"
   ]
  },
  {
   "cell_type": "code",
   "execution_count": 245,
   "id": "bc76b3a2",
   "metadata": {},
   "outputs": [],
   "source": [
    "def build_model(cols):\n",
    "    X_train_sm = sm.add_constant(X_train[cols])\n",
    "    lm = sm.OLS(y_train, X_train_sm).fit()\n",
    "    print(lm.summary())\n",
    "    return lm"
   ]
  },
  {
   "cell_type": "code",
   "execution_count": 246,
   "id": "c86aa732",
   "metadata": {},
   "outputs": [],
   "source": [
    "def get_vif(cols):\n",
    "    df1 = X_train[cols]\n",
    "    vif = pd.DataFrame()\n",
    "    vif['Features'] = df1.columns\n",
    "    vif['VIF'] = [variance_inflation_factor(df1.values, i) for i in range(df1.shape[1])]\n",
    "    vif['VIF'] = round(vif['VIF'],2)\n",
    "    print(vif.sort_values(by='VIF',ascending=False))"
   ]
  },
  {
   "cell_type": "code",
   "execution_count": 247,
   "id": "5a2a1fcf",
   "metadata": {},
   "outputs": [
    {
     "data": {
      "text/plain": [
       "Index(['points', 'group_A', 'group_B', 'group_C', 'sex_f'], dtype='object')"
      ]
     },
     "execution_count": 247,
     "metadata": {},
     "output_type": "execute_result"
    }
   ],
   "source": [
    "X_train.columns[rfe.support_]"
   ]
  },
  {
   "cell_type": "code",
   "execution_count": 248,
   "id": "6a410ee6",
   "metadata": {},
   "outputs": [
    {
     "name": "stdout",
     "output_type": "stream",
     "text": [
      "                            OLS Regression Results                            \n",
      "==============================================================================\n",
      "Dep. Variable:                 passed   R-squared:                       0.507\n",
      "Model:                            OLS   Adj. R-squared:                  0.481\n",
      "Method:                 Least Squares   F-statistic:                     19.04\n",
      "Date:                Thu, 21 Dec 2023   Prob (F-statistic):           8.38e-11\n",
      "Time:                        00:45:58   Log-Likelihood:                -29.071\n",
      "No. Observations:                  79   AIC:                             68.14\n",
      "Df Residuals:                      74   BIC:                             79.99\n",
      "Df Model:                           4                                         \n",
      "Covariance Type:            nonrobust                                         \n",
      "==============================================================================\n",
      "                 coef    std err          t      P>|t|      [0.025      0.975]\n",
      "------------------------------------------------------------------------------\n",
      "const         -0.2325      0.081     -2.867      0.005      -0.394      -0.071\n",
      "points         1.4009      0.167      8.399      0.000       1.069       1.733\n",
      "group_A       -0.0710      0.071     -1.005      0.318      -0.212       0.070\n",
      "group_B       -0.0449      0.064     -0.704      0.484      -0.172       0.082\n",
      "group_C       -0.1166      0.105     -1.109      0.271      -0.326       0.093\n",
      "sex_f          0.0027      0.143      0.019      0.985      -0.283       0.288\n",
      "==============================================================================\n",
      "Omnibus:                       10.827   Durbin-Watson:                   1.958\n",
      "Prob(Omnibus):                  0.004   Jarque-Bera (JB):               10.847\n",
      "Skew:                          -0.849   Prob(JB):                      0.00441\n",
      "Kurtosis:                       2.358   Cond. No.                     1.20e+16\n",
      "==============================================================================\n",
      "\n",
      "Notes:\n",
      "[1] Standard Errors assume that the covariance matrix of the errors is correctly specified.\n",
      "[2] The smallest eigenvalue is 9.89e-31. This might indicate that there are\n",
      "strong multicollinearity problems or that the design matrix is singular.\n"
     ]
    },
    {
     "data": {
      "text/plain": [
       "<statsmodels.regression.linear_model.RegressionResultsWrapper at 0x1ea5794f450>"
      ]
     },
     "execution_count": 248,
     "metadata": {},
     "output_type": "execute_result"
    }
   ],
   "source": [
    "cols = ['points', 'group_A', 'group_B', 'group_C', 'sex_f']\n",
    "build_model(cols)"
   ]
  },
  {
   "cell_type": "code",
   "execution_count": 249,
   "id": "815bc234",
   "metadata": {},
   "outputs": [],
   "source": [
    "def build_model_sk(X,y):\n",
    "    lr1 = LinearRegression()\n",
    "    lr1.fit(X,y)\n",
    "    return lr1"
   ]
  },
  {
   "cell_type": "code",
   "execution_count": 250,
   "id": "8f24fb84",
   "metadata": {},
   "outputs": [],
   "source": [
    "#Let us build the finalmodel using sklearn\n",
    "cols = ['points', 'group_A', 'group_B', 'group_C', 'sex_f']\n",
    "\n",
    "#Build a model with above columns\n",
    "lr = build_model_sk(X_train[cols],y_train)"
   ]
  },
  {
   "cell_type": "code",
   "execution_count": 251,
   "id": "e48f010d",
   "metadata": {},
   "outputs": [
    {
     "name": "stdout",
     "output_type": "stream",
     "text": [
      "[ 1.40093556  0.0065152   0.03259121 -0.03910641  0.00269722]\n"
     ]
    }
   ],
   "source": [
    "print(lr.coef_)"
   ]
  },
  {
   "cell_type": "code",
   "execution_count": 252,
   "id": "ca57c674",
   "metadata": {},
   "outputs": [
    {
     "name": "stdout",
     "output_type": "stream",
     "text": [
      "-0.3100542816914431\n"
     ]
    }
   ],
   "source": [
    "print(lr.intercept_)"
   ]
  },
  {
   "cell_type": "code",
   "execution_count": 253,
   "id": "918c1982",
   "metadata": {},
   "outputs": [],
   "source": [
    "y_train_pred = lr.predict(X_train[cols])"
   ]
  },
  {
   "cell_type": "code",
   "execution_count": 254,
   "id": "eacf1777",
   "metadata": {},
   "outputs": [
    {
     "data": {
      "text/plain": [
       "Text(0.5, 0, 'Errors')"
      ]
     },
     "execution_count": 254,
     "metadata": {},
     "output_type": "execute_result"
    },
    {
     "data": {
      "image/png": "[encoded data removed]",
      "text/plain": [
       "<Figure size 640x480 with 1 Axes>"
      ]
     },
     "metadata": {},
     "output_type": "display_data"
    }
   ],
   "source": [
    "# Plot the histogram of the error terms\n",
    "\n",
    "fig = plt.figure()\n",
    "sns.distplot(y_train - y_train_pred)\n",
    "fig.suptitle('Error Terms') \n",
    "plt.xlabel('Errors')"
   ]
  },
  {
   "cell_type": "markdown",
   "id": "b84c9307",
   "metadata": {},
   "source": [
    "**Train R-Squared**"
   ]
  },
  {
   "cell_type": "code",
   "execution_count": 255,
   "id": "514c5242",
   "metadata": {},
   "outputs": [
    {
     "data": {
      "text/plain": [
       "0.5072390739029742"
      ]
     },
     "execution_count": 255,
     "metadata": {},
     "output_type": "execute_result"
    }
   ],
   "source": [
    "r2_score(y_train,y_train_pred)"
   ]
  },
  {
   "cell_type": "markdown",
   "id": "d7de0e66",
   "metadata": {},
   "source": [
    "## Test Preparation"
   ]
  },
  {
   "cell_type": "code",
   "execution_count": 256,
   "id": "9efeab86",
   "metadata": {},
   "outputs": [],
   "source": [
    "#Scale variables in X_test\n",
    "var = ['points','quanti']\n",
    "\n",
    "#Test data to be transformed only, no fitting\n",
    "X_test[var] = scaler.transform(X_test[var])"
   ]
  },
  {
   "cell_type": "code",
   "execution_count": 257,
   "id": "945fafc0",
   "metadata": {},
   "outputs": [],
   "source": [
    "#Columns from our final model\n",
    "cols = ['points', 'group_A', 'group_B', 'group_C', 'sex_f']\n",
    "\n",
    "#Predict the values for test data\n",
    "y_pred = lr.predict(X_test[cols])"
   ]
  },
  {
   "cell_type": "markdown",
   "id": "fc908d25",
   "metadata": {},
   "source": [
    "**Test R-Squared**"
   ]
  },
  {
   "cell_type": "code",
   "execution_count": 258,
   "id": "982457da",
   "metadata": {
    "scrolled": true
   },
   "outputs": [
    {
     "data": {
      "text/plain": [
       "0.4168569283549608"
      ]
     },
     "execution_count": 258,
     "metadata": {},
     "output_type": "execute_result"
    }
   ],
   "source": [
    "r2_score(y_test,y_pred)"
   ]
  },
  {
   "cell_type": "markdown",
   "id": "7ae7e49e",
   "metadata": {},
   "source": [
    "**['points', 'group_A', 'group_B', 'group_C', 'sex_f']** Columns are Important"
   ]
  },
  {
   "cell_type": "markdown",
   "id": "58072034",
   "metadata": {},
   "source": [
    "## END"
   ]
  }
 ],
 "metadata": {
  "kernelspec": {
   "display_name": "Python 3 (ipykernel)",
   "language": "python",
   "name": "python3"
  },
  "language_info": {
   "codemirror_mode": {
    "name": "ipython",
    "version": 3
   },
   "file_extension": ".py",
   "mimetype": "text/x-python",
   "name": "python",
   "nbconvert_exporter": "python",
   "pygments_lexer": "ipython3",
   "version": "3.11.3"
  }
 },
 "nbformat": 4,
 "nbformat_minor": 5
}
